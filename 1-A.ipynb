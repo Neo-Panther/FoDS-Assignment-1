{
 "cells": [
  {
   "cell_type": "markdown",
   "metadata": {},
   "source": [
    "# Task 1. Data Preprocessing"
   ]
  },
  {
   "cell_type": "markdown",
   "metadata": {},
   "source": [
    "## Loading the dataset into a DataFrame"
   ]
  },
  {
   "cell_type": "code",
   "execution_count": 1,
   "metadata": {},
   "outputs": [
    {
     "data": {
      "text/html": [
       "<div>\n",
       "<style scoped>\n",
       "    .dataframe tbody tr th:only-of-type {\n",
       "        vertical-align: middle;\n",
       "    }\n",
       "\n",
       "    .dataframe tbody tr th {\n",
       "        vertical-align: top;\n",
       "    }\n",
       "\n",
       "    .dataframe thead th {\n",
       "        text-align: right;\n",
       "    }\n",
       "</style>\n",
       "<table border=\"1\" class=\"dataframe\">\n",
       "  <thead>\n",
       "    <tr style=\"text-align: right;\">\n",
       "      <th></th>\n",
       "      <th>X</th>\n",
       "      <th>Y</th>\n",
       "    </tr>\n",
       "  </thead>\n",
       "  <tbody>\n",
       "    <tr>\n",
       "      <th>0</th>\n",
       "      <td>0.987988</td>\n",
       "      <td>5.098368</td>\n",
       "    </tr>\n",
       "    <tr>\n",
       "      <th>1</th>\n",
       "      <td>0.719720</td>\n",
       "      <td>2.516654</td>\n",
       "    </tr>\n",
       "    <tr>\n",
       "      <th>2</th>\n",
       "      <td>-0.403403</td>\n",
       "      <td>0.337961</td>\n",
       "    </tr>\n",
       "    <tr>\n",
       "      <th>3</th>\n",
       "      <td>0.107107</td>\n",
       "      <td>0.737320</td>\n",
       "    </tr>\n",
       "    <tr>\n",
       "      <th>4</th>\n",
       "      <td>0.345345</td>\n",
       "      <td>-0.780955</td>\n",
       "    </tr>\n",
       "  </tbody>\n",
       "</table>\n",
       "</div>"
      ],
      "text/plain": [
       "          X         Y\n",
       "0  0.987988  5.098368\n",
       "1  0.719720  2.516654\n",
       "2 -0.403403  0.337961\n",
       "3  0.107107  0.737320\n",
       "4  0.345345 -0.780955"
      ]
     },
     "execution_count": 1,
     "metadata": {},
     "output_type": "execute_result"
    }
   ],
   "source": [
    "import pandas as pd\n",
    "import numpy as np\n",
    "# load dataset into a pandas dataframe\n",
    "data = pd.read_csv('Data.csv')\n",
    "data.head()"
   ]
  },
  {
   "cell_type": "markdown",
   "metadata": {},
   "source": [
    "## Normalizing the feature variable"
   ]
  },
  {
   "cell_type": "code",
   "execution_count": 2,
   "metadata": {},
   "outputs": [
    {
     "data": {
      "text/html": [
       "<div>\n",
       "<style scoped>\n",
       "    .dataframe tbody tr th:only-of-type {\n",
       "        vertical-align: middle;\n",
       "    }\n",
       "\n",
       "    .dataframe tbody tr th {\n",
       "        vertical-align: top;\n",
       "    }\n",
       "\n",
       "    .dataframe thead th {\n",
       "        text-align: right;\n",
       "    }\n",
       "</style>\n",
       "<table border=\"1\" class=\"dataframe\">\n",
       "  <thead>\n",
       "    <tr style=\"text-align: right;\">\n",
       "      <th></th>\n",
       "      <th>X</th>\n",
       "      <th>Y</th>\n",
       "    </tr>\n",
       "  </thead>\n",
       "  <tbody>\n",
       "    <tr>\n",
       "      <th>0</th>\n",
       "      <td>1.708680</td>\n",
       "      <td>5.098368</td>\n",
       "    </tr>\n",
       "    <tr>\n",
       "      <th>1</th>\n",
       "      <td>1.244722</td>\n",
       "      <td>2.516654</td>\n",
       "    </tr>\n",
       "    <tr>\n",
       "      <th>2</th>\n",
       "      <td>-0.697668</td>\n",
       "      <td>0.337961</td>\n",
       "    </tr>\n",
       "    <tr>\n",
       "      <th>3</th>\n",
       "      <td>0.185237</td>\n",
       "      <td>0.737320</td>\n",
       "    </tr>\n",
       "    <tr>\n",
       "      <th>4</th>\n",
       "      <td>0.597259</td>\n",
       "      <td>-0.780955</td>\n",
       "    </tr>\n",
       "  </tbody>\n",
       "</table>\n",
       "</div>"
      ],
      "text/plain": [
       "          X         Y\n",
       "0  1.708680  5.098368\n",
       "1  1.244722  2.516654\n",
       "2 -0.697668  0.337961\n",
       "3  0.185237  0.737320\n",
       "4  0.597259 -0.780955"
      ]
     },
     "execution_count": 2,
     "metadata": {},
     "output_type": "execute_result"
    }
   ],
   "source": [
    "# Function to normalize the features: assumes the last column to be target variable (y)\n",
    "def normalize(data: pd.DataFrame) -> None:\n",
    "  for col in data.columns[:-1]:\n",
    "    # standardizing data\n",
    "    data[col] = (data[col] - data[col].mean())/data[col].std()\n",
    "normalize(data)\n",
    "data.head()"
   ]
  },
  {
   "cell_type": "markdown",
   "metadata": {},
   "source": [
    "## Shuffle split the dataset into training and testing sets (80% train; 20% test)"
   ]
  },
  {
   "cell_type": "code",
   "execution_count": 3,
   "metadata": {},
   "outputs": [
    {
     "data": {
      "text/html": [
       "<div>\n",
       "<style scoped>\n",
       "    .dataframe tbody tr th:only-of-type {\n",
       "        vertical-align: middle;\n",
       "    }\n",
       "\n",
       "    .dataframe tbody tr th {\n",
       "        vertical-align: top;\n",
       "    }\n",
       "\n",
       "    .dataframe thead th {\n",
       "        text-align: right;\n",
       "    }\n",
       "</style>\n",
       "<table border=\"1\" class=\"dataframe\">\n",
       "  <thead>\n",
       "    <tr style=\"text-align: right;\">\n",
       "      <th></th>\n",
       "      <th>X</th>\n",
       "      <th>Y</th>\n",
       "    </tr>\n",
       "  </thead>\n",
       "  <tbody>\n",
       "    <tr>\n",
       "      <th>687</th>\n",
       "      <td>0.791152</td>\n",
       "      <td>2.195598</td>\n",
       "    </tr>\n",
       "    <tr>\n",
       "      <th>500</th>\n",
       "      <td>0.455302</td>\n",
       "      <td>0.955510</td>\n",
       "    </tr>\n",
       "    <tr>\n",
       "      <th>332</th>\n",
       "      <td>-1.507863</td>\n",
       "      <td>-1.473624</td>\n",
       "    </tr>\n",
       "    <tr>\n",
       "      <th>979</th>\n",
       "      <td>-0.046742</td>\n",
       "      <td>2.513249</td>\n",
       "    </tr>\n",
       "    <tr>\n",
       "      <th>817</th>\n",
       "      <td>-0.593797</td>\n",
       "      <td>0.133400</td>\n",
       "    </tr>\n",
       "    <tr>\n",
       "      <th>...</th>\n",
       "      <td>...</td>\n",
       "      <td>...</td>\n",
       "    </tr>\n",
       "    <tr>\n",
       "      <th>835</th>\n",
       "      <td>1.061217</td>\n",
       "      <td>2.422208</td>\n",
       "    </tr>\n",
       "    <tr>\n",
       "      <th>192</th>\n",
       "      <td>-0.223323</td>\n",
       "      <td>1.306205</td>\n",
       "    </tr>\n",
       "    <tr>\n",
       "      <th>629</th>\n",
       "      <td>-1.715605</td>\n",
       "      <td>-1.037113</td>\n",
       "    </tr>\n",
       "    <tr>\n",
       "      <th>559</th>\n",
       "      <td>-0.950421</td>\n",
       "      <td>0.399396</td>\n",
       "    </tr>\n",
       "    <tr>\n",
       "      <th>684</th>\n",
       "      <td>0.562635</td>\n",
       "      <td>1.590214</td>\n",
       "    </tr>\n",
       "  </tbody>\n",
       "</table>\n",
       "<p>800 rows × 2 columns</p>\n",
       "</div>"
      ],
      "text/plain": [
       "            X         Y\n",
       "687  0.791152  2.195598\n",
       "500  0.455302  0.955510\n",
       "332 -1.507863 -1.473624\n",
       "979 -0.046742  2.513249\n",
       "817 -0.593797  0.133400\n",
       "..        ...       ...\n",
       "835  1.061217  2.422208\n",
       "192 -0.223323  1.306205\n",
       "629 -1.715605 -1.037113\n",
       "559 -0.950421  0.399396\n",
       "684  0.562635  1.590214\n",
       "\n",
       "[800 rows x 2 columns]"
      ]
     },
     "execution_count": 3,
     "metadata": {},
     "output_type": "execute_result"
    }
   ],
   "source": [
    "# Function to get a desired test train split of the data; give different seed for increased randomness\n",
    "def test_train_split(data: pd.DataFrame, test_size = 0.2, random_seed = 0) -> tuple[pd.DataFrame, pd.DataFrame]:\n",
    "  np.random.seed(random_seed)\n",
    "  # getting a shuffled permutation of the data indices\n",
    "  indices = np.random.permutation(data.shape[0])\n",
    "  # getting the number of indices in testing set\n",
    "  data_test_size = int(data.shape[0]*test_size)\n",
    "  # returning separate test and train sets\n",
    "  return data.iloc[indices[:data_test_size]], data.iloc[indices[data_test_size:]]\n",
    "test, train = test_train_split(data)\n",
    "train"
   ]
  },
  {
   "cell_type": "markdown",
   "metadata": {},
   "source": [
    "# Task 2. Polynomial Regression"
   ]
  },
  {
   "cell_type": "markdown",
   "metadata": {},
   "source": [
    "## Transforming data into polynomial of n degree"
   ]
  },
  {
   "cell_type": "code",
   "execution_count": 4,
   "metadata": {},
   "outputs": [
    {
     "data": {
      "text/html": [
       "<div>\n",
       "<style scoped>\n",
       "    .dataframe tbody tr th:only-of-type {\n",
       "        vertical-align: middle;\n",
       "    }\n",
       "\n",
       "    .dataframe tbody tr th {\n",
       "        vertical-align: top;\n",
       "    }\n",
       "\n",
       "    .dataframe thead th {\n",
       "        text-align: right;\n",
       "    }\n",
       "</style>\n",
       "<table border=\"1\" class=\"dataframe\">\n",
       "  <thead>\n",
       "    <tr style=\"text-align: right;\">\n",
       "      <th></th>\n",
       "      <th>dummy1s</th>\n",
       "      <th>X</th>\n",
       "      <th>X2</th>\n",
       "      <th>X3</th>\n",
       "      <th>Y</th>\n",
       "    </tr>\n",
       "  </thead>\n",
       "  <tbody>\n",
       "    <tr>\n",
       "      <th>0</th>\n",
       "      <td>1.0</td>\n",
       "      <td>1.708680</td>\n",
       "      <td>2.148360</td>\n",
       "      <td>2.542639</td>\n",
       "      <td>5.098368</td>\n",
       "    </tr>\n",
       "    <tr>\n",
       "      <th>1</th>\n",
       "      <td>1.0</td>\n",
       "      <td>1.244722</td>\n",
       "      <td>0.615601</td>\n",
       "      <td>0.982924</td>\n",
       "      <td>2.516654</td>\n",
       "    </tr>\n",
       "    <tr>\n",
       "      <th>2</th>\n",
       "      <td>1.0</td>\n",
       "      <td>-0.697668</td>\n",
       "      <td>-0.573011</td>\n",
       "      <td>-0.173081</td>\n",
       "      <td>0.337961</td>\n",
       "    </tr>\n",
       "    <tr>\n",
       "      <th>3</th>\n",
       "      <td>1.0</td>\n",
       "      <td>0.185237</td>\n",
       "      <td>-1.079095</td>\n",
       "      <td>0.003240</td>\n",
       "      <td>0.737320</td>\n",
       "    </tr>\n",
       "    <tr>\n",
       "      <th>4</th>\n",
       "      <td>1.0</td>\n",
       "      <td>0.597259</td>\n",
       "      <td>-0.718453</td>\n",
       "      <td>0.108590</td>\n",
       "      <td>-0.780955</td>\n",
       "    </tr>\n",
       "    <tr>\n",
       "      <th>...</th>\n",
       "      <td>...</td>\n",
       "      <td>...</td>\n",
       "      <td>...</td>\n",
       "      <td>...</td>\n",
       "      <td>...</td>\n",
       "    </tr>\n",
       "    <tr>\n",
       "      <th>995</th>\n",
       "      <td>1.0</td>\n",
       "      <td>1.161625</td>\n",
       "      <td>0.391926</td>\n",
       "      <td>0.798915</td>\n",
       "      <td>3.079356</td>\n",
       "    </tr>\n",
       "    <tr>\n",
       "      <th>996</th>\n",
       "      <td>1.0</td>\n",
       "      <td>-1.064679</td>\n",
       "      <td>0.150497</td>\n",
       "      <td>-0.615118</td>\n",
       "      <td>0.027487</td>\n",
       "    </tr>\n",
       "    <tr>\n",
       "      <th>997</th>\n",
       "      <td>1.0</td>\n",
       "      <td>0.448377</td>\n",
       "      <td>-0.892592</td>\n",
       "      <td>0.045944</td>\n",
       "      <td>1.068320</td>\n",
       "    </tr>\n",
       "    <tr>\n",
       "      <th>998</th>\n",
       "      <td>1.0</td>\n",
       "      <td>0.206011</td>\n",
       "      <td>-1.070003</td>\n",
       "      <td>0.004456</td>\n",
       "      <td>0.245188</td>\n",
       "    </tr>\n",
       "    <tr>\n",
       "      <th>999</th>\n",
       "      <td>1.0</td>\n",
       "      <td>0.638807</td>\n",
       "      <td>-0.661006</td>\n",
       "      <td>0.132866</td>\n",
       "      <td>0.545114</td>\n",
       "    </tr>\n",
       "  </tbody>\n",
       "</table>\n",
       "<p>1000 rows × 5 columns</p>\n",
       "</div>"
      ],
      "text/plain": [
       "     dummy1s         X        X2        X3         Y\n",
       "0        1.0  1.708680  2.148360  2.542639  5.098368\n",
       "1        1.0  1.244722  0.615601  0.982924  2.516654\n",
       "2        1.0 -0.697668 -0.573011 -0.173081  0.337961\n",
       "3        1.0  0.185237 -1.079095  0.003240  0.737320\n",
       "4        1.0  0.597259 -0.718453  0.108590 -0.780955\n",
       "..       ...       ...       ...       ...       ...\n",
       "995      1.0  1.161625  0.391926  0.798915  3.079356\n",
       "996      1.0 -1.064679  0.150497 -0.615118  0.027487\n",
       "997      1.0  0.448377 -0.892592  0.045944  1.068320\n",
       "998      1.0  0.206011 -1.070003  0.004456  0.245188\n",
       "999      1.0  0.638807 -0.661006  0.132866  0.545114\n",
       "\n",
       "[1000 rows x 5 columns]"
      ]
     },
     "execution_count": 4,
     "metadata": {},
     "output_type": "execute_result"
    }
   ],
   "source": [
    "# Function to polynomial transform data; assumes the last column to be the target variable and ignores it\n",
    "def poly_transform(data: pd.DataFrame, degree: int = 3) -> None: \n",
    "  # separating columns to make polynomial\n",
    "  cols = data.columns[:-1]\n",
    "  f = len(cols)\n",
    "  # first degree always present +1 to include last one\n",
    "  for i in range(2, degree+1):\n",
    "    for col in cols:\n",
    "      data.insert(f+i-2, col+str(i), data[col]**i)\n",
    "def insert_dummy1s(data: pd.DataFrame) -> None:\n",
    "  # adding dummy ones\n",
    "  data.insert(0, 'dummy1s', np.ones(data.shape[0]))\n",
    "data = pd.read_csv('Data.csv')\n",
    "poly_transform(data)\n",
    "normalize(data)\n",
    "insert_dummy1s(data)\n",
    "data"
   ]
  },
  {
   "cell_type": "markdown",
   "metadata": {},
   "source": [
    "## Performing Batch Gradient Descent on the normalized train data"
   ]
  },
  {
   "cell_type": "code",
   "execution_count": 5,
   "metadata": {},
   "outputs": [
    {
     "data": {
      "text/plain": [
       "1.0051022175940663"
      ]
     },
     "execution_count": 5,
     "metadata": {},
     "output_type": "execute_result"
    }
   ],
   "source": [
    "def batch(train: pd.DataFrame, learning_rate = 0.1, max_iterations = 500) -> np.ndarray:\n",
    "  X = np.array(train.iloc[:, :-1])\n",
    "  Y = np.array(train.iloc[:, -1])\n",
    "  # number of features except last column\n",
    "  W = np.zeros(train.shape[1]-1)\n",
    "  n = len(train)\n",
    "  for _ in range(max_iterations):\n",
    "    Y_pred = X @ W\n",
    "    gradient = X.T @ (Y_pred - Y)\n",
    "    W -= (learning_rate/n)*gradient\n",
    "  return W\n",
    "data = pd.read_csv('Data.csv')\n",
    "poly_transform(data, 3)\n",
    "normalize(data)\n",
    "insert_dummy1s(data)\n",
    "test, train = test_train_split(data)\n",
    "def mse(Y_true: np.ndarray, Y_pred: np.ndarray) -> float:\n",
    "  return np.mean((Y_true - Y_pred)**2)\n",
    "W = batch(train, 0.5)\n",
    "mse(test.iloc[:, -1], test.iloc[:, :-1] @ W)"
   ]
  },
  {
   "cell_type": "markdown",
   "metadata": {},
   "source": [
    "# Task 3. Graph Plotting"
   ]
  },
  {
   "cell_type": "markdown",
   "metadata": {},
   "source": [
    "## Training and Testing Error vs Degree of polynomial"
   ]
  },
  {
   "cell_type": "code",
   "execution_count": 6,
   "metadata": {},
   "outputs": [
    {
     "name": "stdout",
     "output_type": "stream",
     "text": [
      "(0.9995677155216034, 0.9679280867897562)\n",
      "3\n"
     ]
    },
    {
     "data": {
      "image/png": "[encoded data removed]",
      "text/plain": [
       "<Figure size 640x480 with 1 Axes>"
      ]
     },
     "metadata": {},
     "output_type": "display_data"
    },
    {
     "name": "stderr",
     "output_type": "stream",
     "text": [
      "C:\\Users\\sbgup\\AppData\\Local\\Temp\\ipykernel_12392\\3136230520.py:9: RuntimeWarning: overflow encountered in matmul\n",
      "  gradient = X.T @ (Y_pred - Y)\n",
      "C:\\Users\\sbgup\\AppData\\Local\\Temp\\ipykernel_12392\\3136230520.py:9: RuntimeWarning: invalid value encountered in matmul\n",
      "  gradient = X.T @ (Y_pred - Y)\n",
      "C:\\Users\\sbgup\\AppData\\Local\\Temp\\ipykernel_12392\\3136230520.py:10: RuntimeWarning: invalid value encountered in subtract\n",
      "  W -= (learning_rate/n)*gradient\n"
     ]
    },
    {
     "data": {
      "image/png": "[encoded data removed]",
      "text/plain": [
       "<Figure size 640x480 with 1 Axes>"
      ]
     },
     "metadata": {},
     "output_type": "display_data"
    }
   ],
   "source": [
    "import matplotlib.pyplot as plt\n",
    "import numpy as np\n",
    "\n",
    "def mse(Y_true: np.ndarray, Y_pred: np.ndarray) -> float:\n",
    "  return np.mean((Y_true - Y_pred)**2)\n",
    "\n",
    "def test_train_plotter(degree: int = 3, learning_rate = 0.01, max_iterations = 500) -> tuple[float, float]:\n",
    "  data = pd.read_csv('Data.csv')\n",
    "  mse_avg_test = mse_avg_train = 0.0\n",
    "  normalize(data)\n",
    "  poly_transform(data, degree=degree)\n",
    "  insert_dummy1s(data)\n",
    "  # taking average for better prediction\n",
    "  for _ in range(10):\n",
    "    test, train = test_train_split(data)\n",
    "    W = batch(train, learning_rate, max_iterations)\n",
    "    X_test = test.iloc[:, :-1]\n",
    "    Y_test = test.iloc[:, -1]\n",
    "    X_train = train.iloc[:, :-1]\n",
    "    Y_train = train.iloc[:, -1]\n",
    "    mse_avg_test += mse(Y_test, X_test @ W)\n",
    "    mse_avg_train += mse(Y_train, X_train @ W)\n",
    "  return mse_avg_test/10, mse_avg_train/10\n",
    "\n",
    "degrees = [1, 2, 3, 4]\n",
    "errors = [test_train_plotter(degree=degree, learning_rate=0.01, max_iterations=500) for degree in degrees]\n",
    "plt.plot(degrees, [i[0] for i in errors], color = 'red')\n",
    "plt.plot(degrees, [i[1] for i in errors], color = 'blue')\n",
    "plt.title('MSE vs Degree')\n",
    "plt.xlabel('Degree')\n",
    "plt.ylabel('MSE')\n",
    "print(min(errors))\n",
    "print(errors.index(min(errors))+1)\n",
    "plt.show()\n",
    "degrees = [4, 5, 6, 7, 8, 9]\n",
    "errors = [test_train_plotter(degree=degree, learning_rate=0.01, max_iterations=500) for degree in degrees]\n",
    "plt.plot(degrees, [i[0] for i in errors], color = 'red')\n",
    "plt.plot(degrees, [i[1] for i in errors], color = 'blue')\n",
    "plt.yscale('log')\n",
    "plt.show()\n"
   ]
  },
  {
   "cell_type": "markdown",
   "metadata": {},
   "source": [
    "**Inference:** We find that 3rd degree gives the least error with 0.01 learning rate. We also observe that higher degrees resulted in overflow of the error."
   ]
  },
  {
   "cell_type": "markdown",
   "metadata": {},
   "source": [
    "## Training and Testing Error vs Epoch"
   ]
  },
  {
   "cell_type": "code",
   "execution_count": 7,
   "metadata": {},
   "outputs": [
    {
     "name": "stdout",
     "output_type": "stream",
     "text": [
      "(0.9988638271467665, 0.9640454936180258)\n",
      "6\n"
     ]
    },
    {
     "data": {
      "image/png": "[encoded data removed]",
      "text/plain": [
       "<Figure size 640x480 with 1 Axes>"
      ]
     },
     "metadata": {},
     "output_type": "display_data"
    }
   ],
   "source": [
    "epochs = range(100, 2000, 100)\n",
    "errors = [test_train_plotter(degree=3, learning_rate=0.01, max_iterations=epoch) for epoch in epochs]\n",
    "plt.plot(epochs, [i[0] for i in errors], color = 'red')\n",
    "plt.plot(epochs, [i[1] for i in errors], color = 'blue')\n",
    "plt.title('MSE vs Epoch')\n",
    "plt.xlabel('Epoch')\n",
    "plt.ylabel('MSE')\n",
    "print(min(errors))\n",
    "print(errors.index(min(errors))+1)\n",
    "plt.show()"
   ]
  },
  {
   "cell_type": "markdown",
   "metadata": {},
   "source": [
    "**Inference:** We observe that 600 is the best number of iterations for the given dataset, with the learning rate of 0.01."
   ]
  },
  {
   "cell_type": "markdown",
   "metadata": {},
   "source": [
    "### Plotting the best fit curve"
   ]
  },
  {
   "cell_type": "code",
   "execution_count": 8,
   "metadata": {},
   "outputs": [
    {
     "data": {
      "image/png": "[encoded data removed]",
      "text/plain": [
       "<Figure size 640x480 with 1 Axes>"
      ]
     },
     "metadata": {},
     "output_type": "display_data"
    },
    {
     "data": {
      "text/plain": [
       "array([0.94265645, 0.42180693, 0.07739549, 1.05041119])"
      ]
     },
     "execution_count": 8,
     "metadata": {},
     "output_type": "execute_result"
    }
   ],
   "source": [
    "X_test_plot = test.iloc[:, 1]\n",
    "X_test = test.iloc[:, :-1]\n",
    "Y_test = test.iloc[:, -1]\n",
    "plt.scatter(X_test_plot, Y_test)\n",
    "W = batch(train, 0.01, 600)\n",
    "plt.scatter(X_test_plot, X_test @ W.T, color='red')\n",
    "plt.show()\n",
    "W"
   ]
  },
  {
   "cell_type": "markdown",
   "metadata": {},
   "source": [
    "# Task 4. Comparative Analysis"
   ]
  },
  {
   "cell_type": "markdown",
   "metadata": {},
   "source": [
    "We observe that a polynomial model of degree 3, with learning rate of 0.01; trained with batch gradient descent algorithm for 600 iterations gives us the best result of 0.9988638271467665 testing error and 0.9640454936180258 training error (mean squared error)."
   ]
  }
 ],
 "metadata": {
  "kernelspec": {
   "display_name": "Python 3",
   "language": "python",
   "name": "python3"
  },
  "language_info": {
   "codemirror_mode": {
    "name": "ipython",
    "version": 3
   },
   "file_extension": ".py",
   "mimetype": "text/x-python",
   "name": "python",
   "nbconvert_exporter": "python",
   "pygments_lexer": "ipython3",
   "version": "3.11.0"
  },
  "orig_nbformat": 4
 },
 "nbformat": 4,
 "nbformat_minor": 2
}
